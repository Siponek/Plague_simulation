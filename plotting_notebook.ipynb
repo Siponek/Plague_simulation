{
 "cells": [
  {
   "cell_type": "code",
   "execution_count": null,
   "metadata": {},
   "outputs": [],
   "source": []
  }
 ],
 "metadata": {
  "kernelspec": {
   "display_name": "Python 3",
   "language": "python",
   "name": "python3"
  },
  "language_info": {
   "name": "python",
   "version": "3.10.5 (tags/v3.10.5:f377153, Jun  6 2022, 16:14:13) [MSC v.1929 64 bit (AMD64)]"
  },
  "orig_nbformat": 4,
  "vscode": {
   "interpreter": {
    "hash": "1cad7a0c0a1d36919dcaabd580713d3e7ee3ff2cb8bf12856972d01978873380"
   }
  }
 },
 "nbformat": 4,
 "nbformat_minor": 2
}
